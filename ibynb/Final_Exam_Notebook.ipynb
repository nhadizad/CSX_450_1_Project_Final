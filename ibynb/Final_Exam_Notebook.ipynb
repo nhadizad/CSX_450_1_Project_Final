{
 "cells": [
  {
   "cell_type": "markdown",
   "metadata": {},
   "source": [
    "# CSX 450-1 Final Exam"
   ]
  },
  {
   "cell_type": "markdown",
   "metadata": {},
   "source": [
    "## Step 1 ##"
   ]
  },
  {
   "cell_type": "markdown",
   "metadata": {},
   "source": [
    "![AWS](../resources/CSX450-1-AWS.PNG)"
   ]
  },
  {
   "cell_type": "markdown",
   "metadata": {},
   "source": [
    "## Step 2 ##"
   ]
  },
  {
   "cell_type": "code",
   "execution_count": 1,
   "metadata": {},
   "outputs": [
    {
     "name": "stdout",
     "output_type": "stream",
     "text": [
      "[1] \"USER       PID %CPU %MEM    VSZ   RSS TTY      STAT START   TIME COMMAND\"                                                                                                                                                  \n",
      "[2] \"jovyan       1  0.0  0.0   4364    68 ?        Ss   Jan28   0:01 tini -- start-notebook.sh\"                                                                                                                                \n",
      "[3] \"jovyan       5  0.0  6.0 362888 61148 ?        Sl   Jan28   0:16 /opt/conda/bin/python /opt/conda/bin/jupyter-notebook\"                                                                                                    \n",
      "[4] \"jovyan     649  0.2  5.4 319812 54816 ?        Ssl  03:07   0:00 /opt/conda/lib/R/bin/exec/R --slave -e IRkernel::main() --args /home/jovyan/.local/share/jupyter/runtime/kernel-9b7d366d-56fd-49cb-882c-a68c5fa9ec0a.json\"\n",
      "[5] \"jovyan     660  0.0  0.0   4504   784 ?        S    03:11   0:00 sh -c ps -aux\"                                                                                                                                            \n",
      "[6] \"jovyan     661  0.0  0.3  36084  3248 ?        R    03:11   0:00 ps -aux\"                                                                                                                                                  \n"
     ]
    }
   ],
   "source": [
    "print(system(\"ps -aux\", intern = TRUE))"
   ]
  },
  {
   "cell_type": "markdown",
   "metadata": {},
   "source": [
    "## Step 3 ##"
   ]
  },
  {
   "cell_type": "markdown",
   "metadata": {},
   "source": [
    "From the above output, we can determine the amount of time that the Jupyter system has been running, by looking at the Unix processes. START column displays the starting time or date of the process. If the process was started less than 24 hours ago, the output format is \"HH:MM:SS\", else it is \"  Mmm dd\" (where Mmm is a three-letter month name). In this scenario, it indicates that the process started running on January 28th. Note that AWS times are in UTC."
   ]
  },
  {
   "cell_type": "markdown",
   "metadata": {},
   "source": [
    "## Step 4 ##"
   ]
  },
  {
   "cell_type": "markdown",
   "metadata": {},
   "source": [
    "### Given the vector (2,5,3,6,2,7,4,5,6) ###\n",
    "\n",
    "* Length: 9\n",
    "* Magnitude: $ \\sqrt{2^2+5^2+3^2+6^2+2^2+7^2+4^2+5^2+6^2} = 14.28 $\n",
    "\n"
   ]
  },
  {
   "cell_type": "markdown",
   "metadata": {},
   "source": [
    "## Step 5 ##"
   ]
  },
  {
   "cell_type": "code",
   "execution_count": 2,
   "metadata": {},
   "outputs": [
    {
     "data": {
      "text/html": [
       "9"
      ],
      "text/latex": [
       "9"
      ],
      "text/markdown": [
       "9"
      ],
      "text/plain": [
       "[1] 9"
      ]
     },
     "metadata": {},
     "output_type": "display_data"
    },
    {
     "data": {
      "text/html": [
       "14.2828568570857"
      ],
      "text/latex": [
       "14.2828568570857"
      ],
      "text/markdown": [
       "14.2828568570857"
      ],
      "text/plain": [
       "[1] 14.28286"
      ]
     },
     "metadata": {},
     "output_type": "display_data"
    },
    {
     "data": {
      "text/html": [
       "14.2828568570857"
      ],
      "text/latex": [
       "14.2828568570857"
      ],
      "text/markdown": [
       "14.2828568570857"
      ],
      "text/plain": [
       "[1] 14.28286"
      ]
     },
     "metadata": {},
     "output_type": "display_data"
    }
   ],
   "source": [
    "v <- c(2,5,3,6,2,7,4,5,6)\n",
    "\n",
    "length(v)\n",
    "\n",
    "sqrt(sum(v^2))\n",
    "norm(v,type = \"2\")"
   ]
  },
  {
   "cell_type": "markdown",
   "metadata": {},
   "source": [
    "## Step 6 ##"
   ]
  },
  {
   "cell_type": "code",
   "execution_count": 3,
   "metadata": {},
   "outputs": [
    {
     "data": {
      "text/html": [
       "<ol class=list-inline>\n",
       "\t<li>2.5</li>\n",
       "\t<li>0.5</li>\n",
       "</ol>\n"
      ],
      "text/latex": [
       "\\begin{enumerate*}\n",
       "\\item 2.5\n",
       "\\item 0.5\n",
       "\\end{enumerate*}\n"
      ],
      "text/markdown": [
       "1. 2.5\n",
       "2. 0.5\n",
       "\n",
       "\n"
      ],
      "text/plain": [
       "[1] 2.5 0.5"
      ]
     },
     "metadata": {},
     "output_type": "display_data"
    }
   ],
   "source": [
    "X <- rbind(c(1,3),c(1,-1))\n",
    "y <- c(4,2)\n",
    "\n",
    "beta <- solve(X,y)\n",
    "beta"
   ]
  },
  {
   "cell_type": "markdown",
   "metadata": {},
   "source": [
    "## Step 7 ##"
   ]
  },
  {
   "cell_type": "markdown",
   "metadata": {},
   "source": [
    "**Folder Structure for the project**"
   ]
  },
  {
   "cell_type": "markdown",
   "metadata": {},
   "source": [
    "```\n",
    ".\n",
    "├── data\n",
    "│   ├── abalone.csv\n",
    "│   └── abalonenames.txt\n",
    "├── ibynb\n",
    "│   ├── DataDescription.ipynb\n",
    "│   └── Final_Exam_Notebook.ipynb\n",
    "├── README.md\n",
    "└── resources\n",
    "    └── CSX450-1-AWS.PNG\n",
    "\n",
    "```"
   ]
  }
 ],
 "metadata": {
  "kernelspec": {
   "display_name": "R",
   "language": "R",
   "name": "ir"
  },
  "language_info": {
   "codemirror_mode": "r",
   "file_extension": ".r",
   "mimetype": "text/x-r-source",
   "name": "R",
   "pygments_lexer": "r",
   "version": "3.3.2"
  }
 },
 "nbformat": 4,
 "nbformat_minor": 2
}
